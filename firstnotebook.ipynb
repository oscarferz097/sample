{
  "nbformat": 4,
  "nbformat_minor": 0,
  "metadata": {
    "colab": {
      "provenance": [],
      "authorship_tag": "ABX9TyNBPqq0ij2b9lRgjXK6TJNa",
      "include_colab_link": true
    },
    "kernelspec": {
      "name": "python3",
      "display_name": "Python 3"
    },
    "language_info": {
      "name": "python"
    }
  },
  "cells": [
    {
      "cell_type": "markdown",
      "metadata": {
        "id": "view-in-github",
        "colab_type": "text"
      },
      "source": [
        "<a href=\"https://colab.research.google.com/github/oscarferz097/sample/blob/main/firstnotebook.ipynb\" target=\"_parent\"><img src=\"https://colab.research.google.com/assets/colab-badge.svg\" alt=\"Open In Colab\"/></a>"
      ]
    },
    {
      "cell_type": "code",
      "source": [
        "print(\"hello, world\")"
      ],
      "metadata": {
        "colab": {
          "base_uri": "https://localhost:8080/"
        },
        "id": "5ldfOJkWM14T",
        "outputId": "68b900e2-4c6e-4714-e6ea-95fb37f397c0"
      },
      "execution_count": 1,
      "outputs": [
        {
          "output_type": "stream",
          "name": "stdout",
          "text": [
            "hello, world\n"
          ]
        }
      ]
    },
    {
      "cell_type": "code",
      "source": [
        "print(\"Hello, Colab!\")\n",
        "print(\"Hello, Python!\")"
      ],
      "metadata": {
        "colab": {
          "base_uri": "https://localhost:8080/"
        },
        "id": "2t3LhKLzNHA8",
        "outputId": "82ffb1af-ea67-4f6c-d1c6-56fbcaa35f0e"
      },
      "execution_count": 2,
      "outputs": [
        {
          "output_type": "stream",
          "name": "stdout",
          "text": [
            "Hello, Colab!\n",
            "Hello, Python!\n"
          ]
        }
      ]
    },
    {
      "cell_type": "markdown",
      "source": [
        "# Rúbrica 1.\n",
        "\n",
        "La notación Markdown facilita la lectura del texto.\n",
        "\n",
        "## Rúbrica 2.\n",
        "\n",
        "*(énfasis añadido)*\n",
        "\n",
        "También se pueden escribir fórmulas matemáticas.\n",
        "\n",
        "$$\n",
        "y=2x+1\n",
        "$$\n",
        "\n",
        "Cuando escriba código Python, utilice bloques de código.\n",
        "\n",
        "python\n",
        "print(\"Hello, World!\")\n",
        "\n",
        "\n",
        "- itemización\n",
        "- itemización\n",
        "  - itemización\n",
        "\n",
        "> presupuesto"
      ],
      "metadata": {
        "id": "L--aE6zYNjXE"
      }
    }
  ]
}